{
  "nbformat": 4,
  "nbformat_minor": 0,
  "metadata": {
    "colab": {
      "name": "HR_model_comparison",
      "provenance": []
    },
    "kernelspec": {
      "name": "python3",
      "display_name": "Python 3"
    }
  },
  "cells": [
    {
      "cell_type": "code",
      "metadata": {
        "id": "KtU_8W2cJTDO",
        "colab_type": "code",
        "colab": {
          "base_uri": "https://localhost:8080/",
          "height": 34
        },
        "outputId": "905e0a16-f9db-491c-e973-2ef182436e89"
      },
      "source": [
        "%cd drive/My\\ Drive/Projects/Hospitalization_Risk_COVID19/data/"
      ],
      "execution_count": 1,
      "outputs": [
        {
          "output_type": "stream",
          "text": [
            "/content/drive/My Drive/Projects/Hospitalization_Risk_COVID19/data\n"
          ],
          "name": "stdout"
        }
      ]
    },
    {
      "cell_type": "code",
      "metadata": {
        "id": "YHenaBSFKAkz",
        "colab_type": "code",
        "colab": {}
      },
      "source": [
        "import numpy as np\n",
        "import pandas as pd\n",
        "import datetime as dt\n",
        "import sklearn\n",
        "from scipy import stats\n",
        "from sklearn import preprocessing\n",
        "from sklearn.model_selection import GridSearchCV\n",
        "from sklearn.ensemble import RandomForestClassifier\n",
        "from sklearn.ensemble import AdaBoostClassifier\n",
        "from sklearn.model_selection import train_test_split"
      ],
      "execution_count": 2,
      "outputs": []
    },
    {
      "cell_type": "code",
      "metadata": {
        "id": "og2zlgVBLeCY",
        "colab_type": "code",
        "colab": {}
      },
      "source": [
        "df = pd.read_csv('200918COVID19MEXICO.csv', encoding='unicode_escape')"
      ],
      "execution_count": 3,
      "outputs": []
    },
    {
      "cell_type": "code",
      "metadata": {
        "id": "2tmaQx8NL_XD",
        "colab_type": "code",
        "colab": {
          "base_uri": "https://localhost:8080/",
          "height": 224
        },
        "outputId": "f7bb5f5e-a751-4bfd-ac67-8b8d0117a65e"
      },
      "source": [
        "df.head()"
      ],
      "execution_count": 4,
      "outputs": [
        {
          "output_type": "execute_result",
          "data": {
            "text/html": [
              "<div>\n",
              "<style scoped>\n",
              "    .dataframe tbody tr th:only-of-type {\n",
              "        vertical-align: middle;\n",
              "    }\n",
              "\n",
              "    .dataframe tbody tr th {\n",
              "        vertical-align: top;\n",
              "    }\n",
              "\n",
              "    .dataframe thead th {\n",
              "        text-align: right;\n",
              "    }\n",
              "</style>\n",
              "<table border=\"1\" class=\"dataframe\">\n",
              "  <thead>\n",
              "    <tr style=\"text-align: right;\">\n",
              "      <th></th>\n",
              "      <th>FECHA_ACTUALIZACION</th>\n",
              "      <th>ID_REGISTRO</th>\n",
              "      <th>ORIGEN</th>\n",
              "      <th>SECTOR</th>\n",
              "      <th>ENTIDAD_UM</th>\n",
              "      <th>SEXO</th>\n",
              "      <th>ENTIDAD_NAC</th>\n",
              "      <th>ENTIDAD_RES</th>\n",
              "      <th>MUNICIPIO_RES</th>\n",
              "      <th>TIPO_PACIENTE</th>\n",
              "      <th>FECHA_INGRESO</th>\n",
              "      <th>FECHA_SINTOMAS</th>\n",
              "      <th>FECHA_DEF</th>\n",
              "      <th>INTUBADO</th>\n",
              "      <th>NEUMONIA</th>\n",
              "      <th>EDAD</th>\n",
              "      <th>NACIONALIDAD</th>\n",
              "      <th>EMBARAZO</th>\n",
              "      <th>HABLA_LENGUA_INDIG</th>\n",
              "      <th>DIABETES</th>\n",
              "      <th>EPOC</th>\n",
              "      <th>ASMA</th>\n",
              "      <th>INMUSUPR</th>\n",
              "      <th>HIPERTENSION</th>\n",
              "      <th>OTRA_COM</th>\n",
              "      <th>CARDIOVASCULAR</th>\n",
              "      <th>OBESIDAD</th>\n",
              "      <th>RENAL_CRONICA</th>\n",
              "      <th>TABAQUISMO</th>\n",
              "      <th>OTRO_CASO</th>\n",
              "      <th>RESULTADO</th>\n",
              "      <th>MIGRANTE</th>\n",
              "      <th>PAIS_NACIONALIDAD</th>\n",
              "      <th>PAIS_ORIGEN</th>\n",
              "      <th>UCI</th>\n",
              "    </tr>\n",
              "  </thead>\n",
              "  <tbody>\n",
              "    <tr>\n",
              "      <th>0</th>\n",
              "      <td>2020-09-18</td>\n",
              "      <td>11e6c9</td>\n",
              "      <td>2</td>\n",
              "      <td>9</td>\n",
              "      <td>9</td>\n",
              "      <td>2</td>\n",
              "      <td>30</td>\n",
              "      <td>9</td>\n",
              "      <td>10</td>\n",
              "      <td>1</td>\n",
              "      <td>2020-06-22</td>\n",
              "      <td>2020-06-22</td>\n",
              "      <td>9999-99-99</td>\n",
              "      <td>97</td>\n",
              "      <td>2</td>\n",
              "      <td>39</td>\n",
              "      <td>1</td>\n",
              "      <td>97</td>\n",
              "      <td>2</td>\n",
              "      <td>2</td>\n",
              "      <td>2</td>\n",
              "      <td>2</td>\n",
              "      <td>2</td>\n",
              "      <td>2</td>\n",
              "      <td>2</td>\n",
              "      <td>2</td>\n",
              "      <td>2</td>\n",
              "      <td>2</td>\n",
              "      <td>2</td>\n",
              "      <td>1</td>\n",
              "      <td>1</td>\n",
              "      <td>99</td>\n",
              "      <td>MÃ©xico</td>\n",
              "      <td>99</td>\n",
              "      <td>97</td>\n",
              "    </tr>\n",
              "    <tr>\n",
              "      <th>1</th>\n",
              "      <td>2020-09-18</td>\n",
              "      <td>0f6da0</td>\n",
              "      <td>1</td>\n",
              "      <td>4</td>\n",
              "      <td>23</td>\n",
              "      <td>2</td>\n",
              "      <td>29</td>\n",
              "      <td>23</td>\n",
              "      <td>5</td>\n",
              "      <td>1</td>\n",
              "      <td>2020-04-22</td>\n",
              "      <td>2020-04-20</td>\n",
              "      <td>9999-99-99</td>\n",
              "      <td>97</td>\n",
              "      <td>2</td>\n",
              "      <td>26</td>\n",
              "      <td>1</td>\n",
              "      <td>97</td>\n",
              "      <td>2</td>\n",
              "      <td>2</td>\n",
              "      <td>2</td>\n",
              "      <td>2</td>\n",
              "      <td>2</td>\n",
              "      <td>2</td>\n",
              "      <td>2</td>\n",
              "      <td>2</td>\n",
              "      <td>1</td>\n",
              "      <td>2</td>\n",
              "      <td>2</td>\n",
              "      <td>1</td>\n",
              "      <td>1</td>\n",
              "      <td>99</td>\n",
              "      <td>MÃ©xico</td>\n",
              "      <td>99</td>\n",
              "      <td>97</td>\n",
              "    </tr>\n",
              "    <tr>\n",
              "      <th>2</th>\n",
              "      <td>2020-09-18</td>\n",
              "      <td>172af6</td>\n",
              "      <td>2</td>\n",
              "      <td>4</td>\n",
              "      <td>9</td>\n",
              "      <td>1</td>\n",
              "      <td>9</td>\n",
              "      <td>9</td>\n",
              "      <td>7</td>\n",
              "      <td>2</td>\n",
              "      <td>2020-04-20</td>\n",
              "      <td>2020-04-18</td>\n",
              "      <td>9999-99-99</td>\n",
              "      <td>2</td>\n",
              "      <td>2</td>\n",
              "      <td>63</td>\n",
              "      <td>1</td>\n",
              "      <td>2</td>\n",
              "      <td>2</td>\n",
              "      <td>2</td>\n",
              "      <td>2</td>\n",
              "      <td>2</td>\n",
              "      <td>2</td>\n",
              "      <td>2</td>\n",
              "      <td>2</td>\n",
              "      <td>2</td>\n",
              "      <td>1</td>\n",
              "      <td>2</td>\n",
              "      <td>2</td>\n",
              "      <td>99</td>\n",
              "      <td>1</td>\n",
              "      <td>99</td>\n",
              "      <td>MÃ©xico</td>\n",
              "      <td>99</td>\n",
              "      <td>2</td>\n",
              "    </tr>\n",
              "    <tr>\n",
              "      <th>3</th>\n",
              "      <td>2020-09-18</td>\n",
              "      <td>03fa11</td>\n",
              "      <td>1</td>\n",
              "      <td>4</td>\n",
              "      <td>23</td>\n",
              "      <td>2</td>\n",
              "      <td>27</td>\n",
              "      <td>23</td>\n",
              "      <td>5</td>\n",
              "      <td>2</td>\n",
              "      <td>2020-04-18</td>\n",
              "      <td>2020-04-14</td>\n",
              "      <td>9999-99-99</td>\n",
              "      <td>2</td>\n",
              "      <td>1</td>\n",
              "      <td>70</td>\n",
              "      <td>1</td>\n",
              "      <td>97</td>\n",
              "      <td>2</td>\n",
              "      <td>2</td>\n",
              "      <td>2</td>\n",
              "      <td>2</td>\n",
              "      <td>2</td>\n",
              "      <td>2</td>\n",
              "      <td>2</td>\n",
              "      <td>2</td>\n",
              "      <td>2</td>\n",
              "      <td>2</td>\n",
              "      <td>2</td>\n",
              "      <td>99</td>\n",
              "      <td>1</td>\n",
              "      <td>99</td>\n",
              "      <td>MÃ©xico</td>\n",
              "      <td>99</td>\n",
              "      <td>2</td>\n",
              "    </tr>\n",
              "    <tr>\n",
              "      <th>4</th>\n",
              "      <td>2020-09-18</td>\n",
              "      <td>08c7aa</td>\n",
              "      <td>1</td>\n",
              "      <td>12</td>\n",
              "      <td>9</td>\n",
              "      <td>2</td>\n",
              "      <td>15</td>\n",
              "      <td>9</td>\n",
              "      <td>17</td>\n",
              "      <td>2</td>\n",
              "      <td>2020-04-21</td>\n",
              "      <td>2020-04-15</td>\n",
              "      <td>9999-99-99</td>\n",
              "      <td>2</td>\n",
              "      <td>1</td>\n",
              "      <td>45</td>\n",
              "      <td>1</td>\n",
              "      <td>97</td>\n",
              "      <td>2</td>\n",
              "      <td>2</td>\n",
              "      <td>2</td>\n",
              "      <td>2</td>\n",
              "      <td>2</td>\n",
              "      <td>2</td>\n",
              "      <td>2</td>\n",
              "      <td>2</td>\n",
              "      <td>2</td>\n",
              "      <td>2</td>\n",
              "      <td>2</td>\n",
              "      <td>2</td>\n",
              "      <td>1</td>\n",
              "      <td>99</td>\n",
              "      <td>MÃ©xico</td>\n",
              "      <td>99</td>\n",
              "      <td>2</td>\n",
              "    </tr>\n",
              "  </tbody>\n",
              "</table>\n",
              "</div>"
            ],
            "text/plain": [
              "  FECHA_ACTUALIZACION ID_REGISTRO  ORIGEN  ...  PAIS_NACIONALIDAD  PAIS_ORIGEN  UCI\n",
              "0          2020-09-18      11e6c9       2  ...            MÃ©xico           99   97\n",
              "1          2020-09-18      0f6da0       1  ...            MÃ©xico           99   97\n",
              "2          2020-09-18      172af6       2  ...            MÃ©xico           99    2\n",
              "3          2020-09-18      03fa11       1  ...            MÃ©xico           99    2\n",
              "4          2020-09-18      08c7aa       1  ...            MÃ©xico           99    2\n",
              "\n",
              "[5 rows x 35 columns]"
            ]
          },
          "metadata": {
            "tags": []
          },
          "execution_count": 4
        }
      ]
    },
    {
      "cell_type": "markdown",
      "metadata": {
        "id": "7b2y6AFEK2in",
        "colab_type": "text"
      },
      "source": [
        "### Preprocessing"
      ]
    },
    {
      "cell_type": "code",
      "metadata": {
        "id": "8NXDnmobMzNL",
        "colab_type": "code",
        "colab": {}
      },
      "source": [
        "## Filter by positive cases\n",
        "df = df[df['RESULTADO'] == 1]"
      ],
      "execution_count": 5,
      "outputs": []
    },
    {
      "cell_type": "code",
      "metadata": {
        "id": "RvMO0fefKacQ",
        "colab_type": "code",
        "colab": {}
      },
      "source": [
        " ## Drop unnecesary columns\n",
        " drop_cols = ['FECHA_ACTUALIZACION', 'ID_REGISTRO', 'SECTOR', 'ENTIDAD_UM', 'INTUBADO', 'NEUMONIA', 'UCI',\n",
        "              'SECTOR', 'ORIGEN', 'ENTIDAD_NAC', 'ENTIDAD_RES', 'MUNICIPIO_RES', 'NACIONALIDAD',\n",
        "              'HABLA_LENGUA_INDIG', 'OTRO_CASO', 'MIGRANTE', 'PAIS_NACIONALIDAD', 'PAIS_ORIGEN', \n",
        "              'FECHA_INGRESO', 'FECHA_SINTOMAS', 'FECHA_DEF', 'EMBARAZO', 'RESULTADO']\n",
        "df = df.drop(drop_cols, axis = 1)"
      ],
      "execution_count": 6,
      "outputs": []
    },
    {
      "cell_type": "code",
      "metadata": {
        "id": "xs-V8OyONIoo",
        "colab_type": "code",
        "colab": {}
      },
      "source": [
        "## Replace '98's (nulls) for '0's.\n",
        "## Except in the 'EDAD' column that corresponds to the age.\n",
        "cols = list(df.columns)\n",
        "cols.remove('EDAD')\n",
        "for col in cols:\n",
        "    df[col] = df[col].replace(98, 0)"
      ],
      "execution_count": 7,
      "outputs": []
    },
    {
      "cell_type": "code",
      "metadata": {
        "id": "u0wM2CyYObnV",
        "colab_type": "code",
        "colab": {}
      },
      "source": [
        "# Target: 'TIPO_PACIENTE'\n",
        "# Replace '1' for '0' (ambulatory)\n",
        "# Replace '2' for '1' (hospitalized)\n",
        "df['TIPO_PACIENTE'] = df['TIPO_PACIENTE'].replace(1, 0)\n",
        "df['TIPO_PACIENTE'] = df['TIPO_PACIENTE'].replace(2, 1)"
      ],
      "execution_count": 8,
      "outputs": []
    },
    {
      "cell_type": "code",
      "metadata": {
        "id": "cvvAtDSuNaud",
        "colab_type": "code",
        "colab": {
          "base_uri": "https://localhost:8080/",
          "height": 255
        },
        "outputId": "a0b22749-4b98-462b-d6db-dd643ec4ff34"
      },
      "source": [
        "print('Total Cases: {:,}'.format(len(df)))\n",
        "print('Hospitalization cases: {:,}'.format(sum(df['TIPO_PACIENTE'])))\n",
        "print('Hospitalization ratio: {:.2f}%'.format(100*sum(df['TIPO_PACIENTE'])/len(df)))\n",
        "df.head()"
      ],
      "execution_count": 9,
      "outputs": [
        {
          "output_type": "stream",
          "text": [
            "Total Cases: 688,954\n",
            "Hospitalization cases: 168,356\n",
            "Hospitalization ratio: 24.44%\n"
          ],
          "name": "stdout"
        },
        {
          "output_type": "execute_result",
          "data": {
            "text/html": [
              "<div>\n",
              "<style scoped>\n",
              "    .dataframe tbody tr th:only-of-type {\n",
              "        vertical-align: middle;\n",
              "    }\n",
              "\n",
              "    .dataframe tbody tr th {\n",
              "        vertical-align: top;\n",
              "    }\n",
              "\n",
              "    .dataframe thead th {\n",
              "        text-align: right;\n",
              "    }\n",
              "</style>\n",
              "<table border=\"1\" class=\"dataframe\">\n",
              "  <thead>\n",
              "    <tr style=\"text-align: right;\">\n",
              "      <th></th>\n",
              "      <th>SEXO</th>\n",
              "      <th>TIPO_PACIENTE</th>\n",
              "      <th>EDAD</th>\n",
              "      <th>DIABETES</th>\n",
              "      <th>EPOC</th>\n",
              "      <th>ASMA</th>\n",
              "      <th>INMUSUPR</th>\n",
              "      <th>HIPERTENSION</th>\n",
              "      <th>OTRA_COM</th>\n",
              "      <th>CARDIOVASCULAR</th>\n",
              "      <th>OBESIDAD</th>\n",
              "      <th>RENAL_CRONICA</th>\n",
              "      <th>TABAQUISMO</th>\n",
              "    </tr>\n",
              "  </thead>\n",
              "  <tbody>\n",
              "    <tr>\n",
              "      <th>0</th>\n",
              "      <td>2</td>\n",
              "      <td>0</td>\n",
              "      <td>39</td>\n",
              "      <td>2</td>\n",
              "      <td>2</td>\n",
              "      <td>2</td>\n",
              "      <td>2</td>\n",
              "      <td>2</td>\n",
              "      <td>2</td>\n",
              "      <td>2</td>\n",
              "      <td>2</td>\n",
              "      <td>2</td>\n",
              "      <td>2</td>\n",
              "    </tr>\n",
              "    <tr>\n",
              "      <th>1</th>\n",
              "      <td>2</td>\n",
              "      <td>0</td>\n",
              "      <td>26</td>\n",
              "      <td>2</td>\n",
              "      <td>2</td>\n",
              "      <td>2</td>\n",
              "      <td>2</td>\n",
              "      <td>2</td>\n",
              "      <td>2</td>\n",
              "      <td>2</td>\n",
              "      <td>1</td>\n",
              "      <td>2</td>\n",
              "      <td>2</td>\n",
              "    </tr>\n",
              "    <tr>\n",
              "      <th>2</th>\n",
              "      <td>1</td>\n",
              "      <td>1</td>\n",
              "      <td>63</td>\n",
              "      <td>2</td>\n",
              "      <td>2</td>\n",
              "      <td>2</td>\n",
              "      <td>2</td>\n",
              "      <td>2</td>\n",
              "      <td>2</td>\n",
              "      <td>2</td>\n",
              "      <td>1</td>\n",
              "      <td>2</td>\n",
              "      <td>2</td>\n",
              "    </tr>\n",
              "    <tr>\n",
              "      <th>3</th>\n",
              "      <td>2</td>\n",
              "      <td>1</td>\n",
              "      <td>70</td>\n",
              "      <td>2</td>\n",
              "      <td>2</td>\n",
              "      <td>2</td>\n",
              "      <td>2</td>\n",
              "      <td>2</td>\n",
              "      <td>2</td>\n",
              "      <td>2</td>\n",
              "      <td>2</td>\n",
              "      <td>2</td>\n",
              "      <td>2</td>\n",
              "    </tr>\n",
              "    <tr>\n",
              "      <th>4</th>\n",
              "      <td>2</td>\n",
              "      <td>1</td>\n",
              "      <td>45</td>\n",
              "      <td>2</td>\n",
              "      <td>2</td>\n",
              "      <td>2</td>\n",
              "      <td>2</td>\n",
              "      <td>2</td>\n",
              "      <td>2</td>\n",
              "      <td>2</td>\n",
              "      <td>2</td>\n",
              "      <td>2</td>\n",
              "      <td>2</td>\n",
              "    </tr>\n",
              "  </tbody>\n",
              "</table>\n",
              "</div>"
            ],
            "text/plain": [
              "   SEXO  TIPO_PACIENTE  EDAD  ...  OBESIDAD  RENAL_CRONICA  TABAQUISMO\n",
              "0     2              0    39  ...         2              2           2\n",
              "1     2              0    26  ...         1              2           2\n",
              "2     1              1    63  ...         1              2           2\n",
              "3     2              1    70  ...         2              2           2\n",
              "4     2              1    45  ...         2              2           2\n",
              "\n",
              "[5 rows x 13 columns]"
            ]
          },
          "metadata": {
            "tags": []
          },
          "execution_count": 9
        }
      ]
    },
    {
      "cell_type": "code",
      "metadata": {
        "id": "tTRE1JchKWCN",
        "colab_type": "code",
        "colab": {
          "base_uri": "https://localhost:8080/",
          "height": 255
        },
        "outputId": "4956cd8d-2e0d-488d-ed61-b4ed2a175db5"
      },
      "source": [
        "## Setting correct dtype for categorical columns.\n",
        "categorical_cols = ['SEXO', 'DIABETES', 'EPOC', 'ASMA', 'INMUSUPR',\n",
        "                    'HIPERTENSION', 'OTRA_COM', 'CARDIOVASCULAR', 'OBESIDAD',\n",
        "                    'RENAL_CRONICA', 'TABAQUISMO']\n",
        "df = df.astype(dict(zip(categorical_cols, ['category']*len(categorical_cols))))\n",
        "print(df.dtypes)"
      ],
      "execution_count": 10,
      "outputs": [
        {
          "output_type": "stream",
          "text": [
            "SEXO              category\n",
            "TIPO_PACIENTE        int64\n",
            "EDAD                 int64\n",
            "DIABETES          category\n",
            "EPOC              category\n",
            "ASMA              category\n",
            "INMUSUPR          category\n",
            "HIPERTENSION      category\n",
            "OTRA_COM          category\n",
            "CARDIOVASCULAR    category\n",
            "OBESIDAD          category\n",
            "RENAL_CRONICA     category\n",
            "TABAQUISMO        category\n",
            "dtype: object\n"
          ],
          "name": "stdout"
        }
      ]
    },
    {
      "cell_type": "code",
      "metadata": {
        "id": "tywWIxGGQlAW",
        "colab_type": "code",
        "colab": {}
      },
      "source": [
        "## One Hot Encoding.\n",
        "## Could ommit this step without problem.\n",
        "df_ohe = pd.get_dummies(df)"
      ],
      "execution_count": 11,
      "outputs": []
    },
    {
      "cell_type": "code",
      "metadata": {
        "id": "rWMunjBcStwr",
        "colab_type": "code",
        "colab": {
          "base_uri": "https://localhost:8080/",
          "height": 224
        },
        "outputId": "f9d6be90-f86d-4085-c00a-9113bcb486fd"
      },
      "source": [
        "df_ohe.head()"
      ],
      "execution_count": 12,
      "outputs": [
        {
          "output_type": "execute_result",
          "data": {
            "text/html": [
              "<div>\n",
              "<style scoped>\n",
              "    .dataframe tbody tr th:only-of-type {\n",
              "        vertical-align: middle;\n",
              "    }\n",
              "\n",
              "    .dataframe tbody tr th {\n",
              "        vertical-align: top;\n",
              "    }\n",
              "\n",
              "    .dataframe thead th {\n",
              "        text-align: right;\n",
              "    }\n",
              "</style>\n",
              "<table border=\"1\" class=\"dataframe\">\n",
              "  <thead>\n",
              "    <tr style=\"text-align: right;\">\n",
              "      <th></th>\n",
              "      <th>TIPO_PACIENTE</th>\n",
              "      <th>EDAD</th>\n",
              "      <th>SEXO_1</th>\n",
              "      <th>SEXO_2</th>\n",
              "      <th>DIABETES_0</th>\n",
              "      <th>DIABETES_1</th>\n",
              "      <th>DIABETES_2</th>\n",
              "      <th>EPOC_0</th>\n",
              "      <th>EPOC_1</th>\n",
              "      <th>EPOC_2</th>\n",
              "      <th>ASMA_0</th>\n",
              "      <th>ASMA_1</th>\n",
              "      <th>ASMA_2</th>\n",
              "      <th>INMUSUPR_0</th>\n",
              "      <th>INMUSUPR_1</th>\n",
              "      <th>INMUSUPR_2</th>\n",
              "      <th>HIPERTENSION_0</th>\n",
              "      <th>HIPERTENSION_1</th>\n",
              "      <th>HIPERTENSION_2</th>\n",
              "      <th>OTRA_COM_0</th>\n",
              "      <th>OTRA_COM_1</th>\n",
              "      <th>OTRA_COM_2</th>\n",
              "      <th>CARDIOVASCULAR_0</th>\n",
              "      <th>CARDIOVASCULAR_1</th>\n",
              "      <th>CARDIOVASCULAR_2</th>\n",
              "      <th>OBESIDAD_0</th>\n",
              "      <th>OBESIDAD_1</th>\n",
              "      <th>OBESIDAD_2</th>\n",
              "      <th>RENAL_CRONICA_0</th>\n",
              "      <th>RENAL_CRONICA_1</th>\n",
              "      <th>RENAL_CRONICA_2</th>\n",
              "      <th>TABAQUISMO_0</th>\n",
              "      <th>TABAQUISMO_1</th>\n",
              "      <th>TABAQUISMO_2</th>\n",
              "    </tr>\n",
              "  </thead>\n",
              "  <tbody>\n",
              "    <tr>\n",
              "      <th>0</th>\n",
              "      <td>0</td>\n",
              "      <td>39</td>\n",
              "      <td>0</td>\n",
              "      <td>1</td>\n",
              "      <td>0</td>\n",
              "      <td>0</td>\n",
              "      <td>1</td>\n",
              "      <td>0</td>\n",
              "      <td>0</td>\n",
              "      <td>1</td>\n",
              "      <td>0</td>\n",
              "      <td>0</td>\n",
              "      <td>1</td>\n",
              "      <td>0</td>\n",
              "      <td>0</td>\n",
              "      <td>1</td>\n",
              "      <td>0</td>\n",
              "      <td>0</td>\n",
              "      <td>1</td>\n",
              "      <td>0</td>\n",
              "      <td>0</td>\n",
              "      <td>1</td>\n",
              "      <td>0</td>\n",
              "      <td>0</td>\n",
              "      <td>1</td>\n",
              "      <td>0</td>\n",
              "      <td>0</td>\n",
              "      <td>1</td>\n",
              "      <td>0</td>\n",
              "      <td>0</td>\n",
              "      <td>1</td>\n",
              "      <td>0</td>\n",
              "      <td>0</td>\n",
              "      <td>1</td>\n",
              "    </tr>\n",
              "    <tr>\n",
              "      <th>1</th>\n",
              "      <td>0</td>\n",
              "      <td>26</td>\n",
              "      <td>0</td>\n",
              "      <td>1</td>\n",
              "      <td>0</td>\n",
              "      <td>0</td>\n",
              "      <td>1</td>\n",
              "      <td>0</td>\n",
              "      <td>0</td>\n",
              "      <td>1</td>\n",
              "      <td>0</td>\n",
              "      <td>0</td>\n",
              "      <td>1</td>\n",
              "      <td>0</td>\n",
              "      <td>0</td>\n",
              "      <td>1</td>\n",
              "      <td>0</td>\n",
              "      <td>0</td>\n",
              "      <td>1</td>\n",
              "      <td>0</td>\n",
              "      <td>0</td>\n",
              "      <td>1</td>\n",
              "      <td>0</td>\n",
              "      <td>0</td>\n",
              "      <td>1</td>\n",
              "      <td>0</td>\n",
              "      <td>1</td>\n",
              "      <td>0</td>\n",
              "      <td>0</td>\n",
              "      <td>0</td>\n",
              "      <td>1</td>\n",
              "      <td>0</td>\n",
              "      <td>0</td>\n",
              "      <td>1</td>\n",
              "    </tr>\n",
              "    <tr>\n",
              "      <th>2</th>\n",
              "      <td>1</td>\n",
              "      <td>63</td>\n",
              "      <td>1</td>\n",
              "      <td>0</td>\n",
              "      <td>0</td>\n",
              "      <td>0</td>\n",
              "      <td>1</td>\n",
              "      <td>0</td>\n",
              "      <td>0</td>\n",
              "      <td>1</td>\n",
              "      <td>0</td>\n",
              "      <td>0</td>\n",
              "      <td>1</td>\n",
              "      <td>0</td>\n",
              "      <td>0</td>\n",
              "      <td>1</td>\n",
              "      <td>0</td>\n",
              "      <td>0</td>\n",
              "      <td>1</td>\n",
              "      <td>0</td>\n",
              "      <td>0</td>\n",
              "      <td>1</td>\n",
              "      <td>0</td>\n",
              "      <td>0</td>\n",
              "      <td>1</td>\n",
              "      <td>0</td>\n",
              "      <td>1</td>\n",
              "      <td>0</td>\n",
              "      <td>0</td>\n",
              "      <td>0</td>\n",
              "      <td>1</td>\n",
              "      <td>0</td>\n",
              "      <td>0</td>\n",
              "      <td>1</td>\n",
              "    </tr>\n",
              "    <tr>\n",
              "      <th>3</th>\n",
              "      <td>1</td>\n",
              "      <td>70</td>\n",
              "      <td>0</td>\n",
              "      <td>1</td>\n",
              "      <td>0</td>\n",
              "      <td>0</td>\n",
              "      <td>1</td>\n",
              "      <td>0</td>\n",
              "      <td>0</td>\n",
              "      <td>1</td>\n",
              "      <td>0</td>\n",
              "      <td>0</td>\n",
              "      <td>1</td>\n",
              "      <td>0</td>\n",
              "      <td>0</td>\n",
              "      <td>1</td>\n",
              "      <td>0</td>\n",
              "      <td>0</td>\n",
              "      <td>1</td>\n",
              "      <td>0</td>\n",
              "      <td>0</td>\n",
              "      <td>1</td>\n",
              "      <td>0</td>\n",
              "      <td>0</td>\n",
              "      <td>1</td>\n",
              "      <td>0</td>\n",
              "      <td>0</td>\n",
              "      <td>1</td>\n",
              "      <td>0</td>\n",
              "      <td>0</td>\n",
              "      <td>1</td>\n",
              "      <td>0</td>\n",
              "      <td>0</td>\n",
              "      <td>1</td>\n",
              "    </tr>\n",
              "    <tr>\n",
              "      <th>4</th>\n",
              "      <td>1</td>\n",
              "      <td>45</td>\n",
              "      <td>0</td>\n",
              "      <td>1</td>\n",
              "      <td>0</td>\n",
              "      <td>0</td>\n",
              "      <td>1</td>\n",
              "      <td>0</td>\n",
              "      <td>0</td>\n",
              "      <td>1</td>\n",
              "      <td>0</td>\n",
              "      <td>0</td>\n",
              "      <td>1</td>\n",
              "      <td>0</td>\n",
              "      <td>0</td>\n",
              "      <td>1</td>\n",
              "      <td>0</td>\n",
              "      <td>0</td>\n",
              "      <td>1</td>\n",
              "      <td>0</td>\n",
              "      <td>0</td>\n",
              "      <td>1</td>\n",
              "      <td>0</td>\n",
              "      <td>0</td>\n",
              "      <td>1</td>\n",
              "      <td>0</td>\n",
              "      <td>0</td>\n",
              "      <td>1</td>\n",
              "      <td>0</td>\n",
              "      <td>0</td>\n",
              "      <td>1</td>\n",
              "      <td>0</td>\n",
              "      <td>0</td>\n",
              "      <td>1</td>\n",
              "    </tr>\n",
              "  </tbody>\n",
              "</table>\n",
              "</div>"
            ],
            "text/plain": [
              "   TIPO_PACIENTE  EDAD  SEXO_1  ...  TABAQUISMO_0  TABAQUISMO_1  TABAQUISMO_2\n",
              "0              0    39       0  ...             0             0             1\n",
              "1              0    26       0  ...             0             0             1\n",
              "2              1    63       1  ...             0             0             1\n",
              "3              1    70       0  ...             0             0             1\n",
              "4              1    45       0  ...             0             0             1\n",
              "\n",
              "[5 rows x 34 columns]"
            ]
          },
          "metadata": {
            "tags": []
          },
          "execution_count": 12
        }
      ]
    },
    {
      "cell_type": "code",
      "metadata": {
        "id": "csoWmkUpT8TB",
        "colab_type": "code",
        "colab": {
          "base_uri": "https://localhost:8080/",
          "height": 34
        },
        "outputId": "86db3026-a781-4c20-fd77-7919c391a764"
      },
      "source": [
        "## split the data\n",
        "## test aprox with 30,000 examples\n",
        "y = df_ohe['TIPO_PACIENTE'].copy()\n",
        "X = df_ohe.drop(['TIPO_PACIENTE'], axis = 1).copy()\n",
        "X_train, X_test, y_train, y_test = train_test_split(X, y, test_size=0.04354, random_state = 21, stratify = y)\n",
        "print('Number of test examples:', len(y_test))"
      ],
      "execution_count": 13,
      "outputs": [
        {
          "output_type": "stream",
          "text": [
            "Number of test examples: 29998\n"
          ],
          "name": "stdout"
        }
      ]
    },
    {
      "cell_type": "markdown",
      "metadata": {
        "id": "kmkj6KioSzIP",
        "colab_type": "text"
      },
      "source": [
        "### Training Models\n",
        "\n",
        "* Logistic Regression (lr)\n",
        "\n",
        "* Desicion Tree Classifier (dtc)\n",
        "\n",
        "* Boosted Random Forest (brf)\n",
        "\n",
        "* Gaussian Naives Bayes (gnb)\n",
        "\n",
        "* XGBoost (xgb)"
      ]
    },
    {
      "cell_type": "code",
      "metadata": {
        "id": "B_mjjDb4bN34",
        "colab_type": "code",
        "colab": {}
      },
      "source": [
        "auc_all = []\n",
        "recall_all = []\n",
        "precision_all = []\n",
        "f1_all = []\n",
        "bal_acc_all = []\n",
        "acc_all = []"
      ],
      "execution_count": 14,
      "outputs": []
    },
    {
      "cell_type": "code",
      "metadata": {
        "id": "Vvi_ruNKVN0J",
        "colab_type": "code",
        "colab": {}
      },
      "source": [
        "from sklearn.metrics import recall_score as rs\n",
        "from sklearn.metrics import precision_score as ps\n",
        "from sklearn.metrics import f1_score as fs\n",
        "from sklearn.metrics import balanced_accuracy_score as bas\n",
        "from sklearn.metrics import confusion_matrix as cm\n",
        "from sklearn.metrics import plot_confusion_matrix\n",
        "from sklearn.metrics import roc_auc_score as roc_auc\n",
        "\n",
        "def evaluate_model(clf, sets):\n",
        "  \"\"\"Helper function to evaluate a model.\n",
        "\n",
        "  Params:\n",
        "    clf: trained model.\n",
        "    sets: tuple of sets (X_train, X_test, y_train, y_test).\n",
        "\n",
        "  Returns:\n",
        "    train_metrics, test_metrics (tuples).\n",
        "    test_metrics = (auc, recall, precision, f1, bal_acc, acc)\n",
        "    \n",
        "  \"\"\"\n",
        "  X_train, X_test, y_train, y_test = sets\n",
        "\n",
        "  # Plot Confusion Matrix\n",
        "  plot_confusion_matrix(clf,\n",
        "                        X_test,\n",
        "                        y_test,\n",
        "                        values_format=',d',\n",
        "                        display_labels=['Ambulante', 'Hospitalizado'])\n",
        "\n",
        "  # Training set metrics\n",
        "  tpreds = np.array(clf.predict(X_train))\n",
        "  tauc = roc_auc(y_train, tpreds)\n",
        "  trecall = rs(y_train, tpreds)\n",
        "  tprecision = ps(y_train, tpreds)\n",
        "  tf1 = fs(y_train, tpreds)\n",
        "  tbal_acc = bas(y_train, tpreds)\n",
        "  tacc = clf.score(X_train, y_train)\n",
        "  print(\"**Evaluation Metrics for Train Set**\")\n",
        "  print(\"ROC Area Under the Curve:\", tauc)\n",
        "  print(\"Recall:\", trecall)\n",
        "  print(\"Precision:\", tprecision)\n",
        "  print(\"F1 Score:\",tf1)\n",
        "  print(\"Balanced Accuracy:\", tbal_acc)\n",
        "  print(\"Accuracy:\", tacc)\n",
        "\n",
        "  train_metrics = (tauc, trecall, tprecision, tf1, tbal_acc, tacc)\n",
        "\n",
        "  # Test set metrics\n",
        "  preds = np.array(clf.predict(X_test))\n",
        "  auc = roc_auc(y_test, preds)\n",
        "  recall = rs(y_test, preds)\n",
        "  precision = ps(y_test, preds)\n",
        "  f1 = fs(y_test, preds)\n",
        "  bal_acc = bas(y_test, preds)\n",
        "  acc = clf.score(X_test, y_test)\n",
        "  print(\"\\n**Evaluation Metrics for Test Set**\")\n",
        "  print(\"ROC Area Under the Curve:\", auc)\n",
        "  print(\"Recall:\", recall)\n",
        "  print(\"Precision:\", precision)\n",
        "  print(\"F1 Score:\",f1)\n",
        "  print(\"Balanced Accuracy:\", bal_acc)\n",
        "  print(\"Accuracy:\", acc)\n",
        "\n",
        "  test_metrics = (auc, recall, precision, f1, bal_acc, acc)\n",
        "\n",
        "  return train_metrics, test_metrics"
      ],
      "execution_count": 15,
      "outputs": []
    },
    {
      "cell_type": "code",
      "metadata": {
        "id": "dBupw2F6TWBC",
        "colab_type": "code",
        "colab": {
          "base_uri": "https://localhost:8080/",
          "height": 588
        },
        "outputId": "8594bfac-3f78-4b38-ed28-3fbacad92d47"
      },
      "source": [
        "## Logistic Regression (lr)\n",
        "from sklearn.linear_model import LogisticRegression as lr\n",
        "clf_lr = lr(solver='sag')\n",
        "clf_lr.fit(X_train, y_train)\n",
        "train_metrics, test_metrics = evaluate_model(clf_lr, (X_train, X_test, y_train, y_test))"
      ],
      "execution_count": 16,
      "outputs": [
        {
          "output_type": "stream",
          "text": [
            "/usr/local/lib/python3.6/dist-packages/sklearn/linear_model/_sag.py:330: ConvergenceWarning: The max_iter was reached which means the coef_ did not converge\n",
            "  \"the coef_ did not converge\", ConvergenceWarning)\n"
          ],
          "name": "stderr"
        },
        {
          "output_type": "stream",
          "text": [
            "**Evaluation Metrics for Train Set**\n",
            "ROC Area Under the Curve: 0.6394786073330335\n",
            "Recall: 0.34306261100691815\n",
            "Precision: 0.6337853651820747\n",
            "F1 Score: 0.44516253807597467\n",
            "Balanced Accuracy: 0.6394786073330335\n",
            "Accuracy: 0.7910270184959238\n",
            "\n",
            "**Evaluation Metrics for Test Set**\n",
            "ROC Area Under the Curve: 0.6401232777977188\n",
            "Recall: 0.3431105047748977\n",
            "Precision: 0.6383248730964467\n",
            "F1 Score: 0.44631765749778174\n",
            "Balanced Accuracy: 0.6401232777977188\n",
            "Accuracy: 0.7919861324088272\n"
          ],
          "name": "stdout"
        },
        {
          "output_type": "display_data",
          "data": {
            "image/png": "[encoded data removed]",
            "text/plain": [
              "<Figure size 432x288 with 2 Axes>"
            ]
          },
          "metadata": {
            "tags": [],
            "needs_background": "light"
          }
        }
      ]
    },
    {
      "cell_type": "code",
      "metadata": {
        "id": "NZU_q4t0YaM_",
        "colab_type": "code",
        "colab": {}
      },
      "source": [
        "auc, recall, precision, f1, bal_acc, acc = test_metrics\n",
        "auc_all.append(auc)\n",
        "recall_all.append(recall_all)\n",
        "precision_all.append(precision)\n",
        "f1_all.append(f1)\n",
        "bal_acc_all.append(bal_acc)\n",
        "acc_all.append(acc)"
      ],
      "execution_count": 17,
      "outputs": []
    },
    {
      "cell_type": "code",
      "metadata": {
        "id": "0n_Il9AWdaeo",
        "colab_type": "code",
        "colab": {
          "base_uri": "https://localhost:8080/",
          "height": 534
        },
        "outputId": "c251ff1c-9df8-49fb-b1f6-c75161def634"
      },
      "source": [
        "## Desicion Tree Classifier (dtc)\n",
        "from sklearn.tree import DecisionTreeClassifier as dtc\n",
        "\n",
        "clf_dtc = dtc(max_depth=2)\n",
        "clf_dtc.fit(X_train, y_train)\n",
        "train_metrics, test_metrics = evaluate_model(clf_dtc, (X_train, X_test, y_train, y_test))"
      ],
      "execution_count": 18,
      "outputs": [
        {
          "output_type": "stream",
          "text": [
            "**Evaluation Metrics for Train Set**\n",
            "ROC Area Under the Curve: 0.6366585006205496\n",
            "Recall: 0.34956466657558405\n",
            "Precision: 0.5971990875815607\n",
            "F1 Score: 0.4409963922109362\n",
            "Balanced Accuracy: 0.6366585006205496\n",
            "Accuracy: 0.7834407760153941\n",
            "\n",
            "**Evaluation Metrics for Test Set**\n",
            "ROC Area Under the Curve: 0.6381902621409077\n",
            "Recall: 0.3510231923601637\n",
            "Precision: 0.603282532239156\n",
            "F1 Score: 0.44381198792583015\n",
            "Balanced Accuracy: 0.6381902621409077\n",
            "Accuracy: 0.7850190012667512\n"
          ],
          "name": "stdout"
        },
        {
          "output_type": "display_data",
          "data": {
            "image/png": "[encoded data removed]",
            "text/plain": [
              "<Figure size 432x288 with 2 Axes>"
            ]
          },
          "metadata": {
            "tags": [],
            "needs_background": "light"
          }
        }
      ]
    },
    {
      "cell_type": "code",
      "metadata": {
        "id": "S1Iwk_q_eH8Q",
        "colab_type": "code",
        "colab": {}
      },
      "source": [
        "auc, recall, precision, f1, bal_acc, acc = test_metrics\n",
        "auc_all.append(auc)\n",
        "recall_all.append(recall_all)\n",
        "precision_all.append(precision)\n",
        "f1_all.append(f1)\n",
        "bal_acc_all.append(bal_acc)\n",
        "acc_all.append(acc)"
      ],
      "execution_count": 19,
      "outputs": []
    },
    {
      "cell_type": "code",
      "metadata": {
        "id": "6yZZDH8v3WqC",
        "colab_type": "code",
        "colab": {}
      },
      "source": [
        "# Scale the ages because BRF and SVM take a long time to train.\n",
        "X_train_scaled = X_train.copy()\n",
        "X_test_scaled = X_test.copy()\n",
        "\n",
        "sc = preprocessing.StandardScaler()\n",
        "sc.fit(X['EDAD'].to_numpy().reshape(X['EDAD'].shape[0], 1))\n",
        "\n",
        "X_train_scaled['EDAD'] = sc.transform(X_train['EDAD'].to_numpy().reshape(X_train['EDAD'].shape[0], 1)).flatten()\n",
        "X_test_scaled['EDAD'] = sc.transform(X_test['EDAD'].to_numpy().reshape(X_test['EDAD'].shape[0], 1)).flatten()"
      ],
      "execution_count": 20,
      "outputs": []
    },
    {
      "cell_type": "code",
      "metadata": {
        "id": "fqAJXOpzfh7O",
        "colab_type": "code",
        "colab": {
          "base_uri": "https://localhost:8080/",
          "height": 538
        },
        "outputId": "f9c21693-7418-424a-c258-d06bbff10994"
      },
      "source": [
        "## Boosted Random Forest (brf)\n",
        "from sklearn.ensemble import RandomForestClassifier\n",
        "from sklearn.ensemble import AdaBoostClassifier\n",
        "\n",
        "rf = RandomForestClassifier(bootstrap=True, ccp_alpha=0.0, class_weight=None,\n",
        "                            criterion='gini', max_depth=2, max_features='auto',\n",
        "                            max_leaf_nodes=None, max_samples=None,\n",
        "                            min_impurity_decrease=0.0, min_impurity_split=None,\n",
        "                            min_samples_leaf=2, min_samples_split=2,\n",
        "                            min_weight_fraction_leaf=0.0, n_estimators=100,\n",
        "                            n_jobs=None, oob_score=False, random_state=None,\n",
        "                            verbose=0, warm_start=False)\n",
        "clf_brf = AdaBoostClassifier(rf,50,0.01,'SAMME.R',10)\n",
        "clf_brf.fit(X_train_scaled, y_train)\n",
        "train_metrics, test_metrics = evaluate_model(clf_brf, (X_train_scaled, X_test_scaled, y_train, y_test))"
      ],
      "execution_count": 21,
      "outputs": [
        {
          "output_type": "stream",
          "text": [
            "**Evaluation Metrics for Train Set**\n",
            "ROC Area Under the Curve: 0.5182950314579332\n",
            "Recall: 0.04142809235775589\n",
            "Precision: 0.7346916299559472\n",
            "F1 Score: 0.07843344737986901\n",
            "Balanced Accuracy: 0.5182950314579332\n",
            "Accuracy: 0.7621024772518954\n",
            "\n",
            "**Evaluation Metrics for Test Set**\n",
            "ROC Area Under the Curve: 0.5187637626323722\n",
            "Recall: 0.04229195088676671\n",
            "Precision: 0.7416267942583732\n",
            "F1 Score: 0.08002065049044914\n",
            "Balanced Accuracy: 0.5187637626323722\n",
            "Accuracy: 0.7623841589439296\n"
          ],
          "name": "stdout"
        },
        {
          "output_type": "display_data",
          "data": {
            "image/png": "[encoded data removed]",
            "text/plain": [
              "<Figure size 432x288 with 2 Axes>"
            ]
          },
          "metadata": {
            "tags": [],
            "needs_background": "light"
          }
        }
      ]
    },
    {
      "cell_type": "code",
      "metadata": {
        "id": "wcUoZJRQgYjP",
        "colab_type": "code",
        "colab": {}
      },
      "source": [
        "auc, recall, precision, f1, bal_acc, acc = test_metrics\n",
        "auc_all.append(auc)\n",
        "recall_all.append(recall_all)\n",
        "precision_all.append(precision)\n",
        "f1_all.append(f1)\n",
        "bal_acc_all.append(bal_acc)\n",
        "acc_all.append(acc)"
      ],
      "execution_count": 22,
      "outputs": []
    },
    {
      "cell_type": "code",
      "metadata": {
        "id": "Jcgd7VRnnBUH",
        "colab_type": "code",
        "colab": {
          "base_uri": "https://localhost:8080/",
          "height": 534
        },
        "outputId": "5ce0c699-ce4e-46ae-e3ec-fe4f7247bb77"
      },
      "source": [
        "# Gaussian Naives Bayes (gnb)\n",
        "from sklearn.naive_bayes import GaussianNB\n",
        "\n",
        "clf_gnb = GaussianNB()\n",
        "clf_gnb.fit(X_train, y_train)\n",
        "train_metrics, test_metrics = evaluate_model(clf_gnb, (X_train, X_test, y_train, y_test))"
      ],
      "execution_count": 23,
      "outputs": [
        {
          "output_type": "stream",
          "text": [
            "**Evaluation Metrics for Train Set**\n",
            "ROC Area Under the Curve: 0.5987943091740234\n",
            "Recall: 0.2750673804230373\n",
            "Precision: 0.5344748527850178\n",
            "F1 Score: 0.3632092104076295\n",
            "Balanced Accuracy: 0.5987943091740234\n",
            "Accuracy: 0.764305962765344\n",
            "\n",
            "**Evaluation Metrics for Test Set**\n",
            "ROC Area Under the Curve: 0.6023707537306409\n",
            "Recall: 0.28035470668485674\n",
            "Precision: 0.5452374635181746\n",
            "F1 Score: 0.37030363095774393\n",
            "Balanced Accuracy: 0.6023707537306409\n",
            "Accuracy: 0.7670178011867458\n"
          ],
          "name": "stdout"
        },
        {
          "output_type": "display_data",
          "data": {
            "image/png": "[encoded data removed]",
            "text/plain": [
              "<Figure size 432x288 with 2 Axes>"
            ]
          },
          "metadata": {
            "tags": [],
            "needs_background": "light"
          }
        }
      ]
    },
    {
      "cell_type": "code",
      "metadata": {
        "id": "in535s9vu5Lt",
        "colab_type": "code",
        "colab": {}
      },
      "source": [
        "auc, recall, precision, f1, bal_acc, acc = test_metrics\n",
        "auc_all.append(auc)\n",
        "recall_all.append(recall_all)\n",
        "precision_all.append(precision)\n",
        "f1_all.append(f1)\n",
        "bal_acc_all.append(bal_acc)\n",
        "acc_all.append(acc)"
      ],
      "execution_count": 24,
      "outputs": []
    },
    {
      "cell_type": "code",
      "metadata": {
        "id": "6JmeYTTqu8hO",
        "colab_type": "code",
        "colab": {
          "base_uri": "https://localhost:8080/",
          "height": 534
        },
        "outputId": "e20728f0-4633-4257-e55a-0de4b530bfcb"
      },
      "source": [
        "## XGBoost (xgb)\n",
        "import xgboost as xgb\n",
        "\n",
        "clf_xgb = xgb.XGBClassifier(objective='binary:logistic', missing=None)\n",
        "clf_xgb.fit(X_train,\n",
        "            y_train,\n",
        "            verbose=False,\n",
        "            early_stopping_rounds=10,\n",
        "            eval_metric='aucpr',\n",
        "            eval_set=[(X_test, y_test)])\n",
        "train_metrics, test_metrics = evaluate_model(clf_xgb, (X_train, X_test, y_train, y_test))"
      ],
      "execution_count": 25,
      "outputs": [
        {
          "output_type": "stream",
          "text": [
            "**Evaluation Metrics for Train Set**\n",
            "ROC Area Under the Curve: 0.6588683368139789\n",
            "Recall: 0.3950728453790071\n",
            "Precision: 0.6229326805385557\n",
            "F1 Score: 0.48350186774893494\n",
            "Balanced Accuracy: 0.6588683368139789\n",
            "Accuracy: 0.7937388839315523\n",
            "\n",
            "**Evaluation Metrics for Test Set**\n",
            "ROC Area Under the Curve: 0.6560325738803743\n",
            "Recall: 0.38922237380627556\n",
            "Precision: 0.6199478487614081\n",
            "F1 Score: 0.4782098558498156\n",
            "Balanced Accuracy: 0.6560325738803744\n",
            "Accuracy: 0.7924528301886793\n"
          ],
          "name": "stdout"
        },
        {
          "output_type": "display_data",
          "data": {
            "image/png": "[encoded data removed]",
            "text/plain": [
              "<Figure size 432x288 with 2 Axes>"
            ]
          },
          "metadata": {
            "tags": [],
            "needs_background": "light"
          }
        }
      ]
    },
    {
      "cell_type": "code",
      "metadata": {
        "id": "FGV4T4XnvnS4",
        "colab_type": "code",
        "colab": {}
      },
      "source": [
        "auc, recall, precision, f1, bal_acc, acc = test_metrics\n",
        "auc_all.append(auc)\n",
        "recall_all.append(recall_all)\n",
        "precision_all.append(precision)\n",
        "f1_all.append(f1)\n",
        "bal_acc_all.append(bal_acc)\n",
        "acc_all.append(acc)"
      ],
      "execution_count": 26,
      "outputs": []
    },
    {
      "cell_type": "code",
      "metadata": {
        "id": "SY2uwfYLGZ99",
        "colab_type": "code",
        "colab": {}
      },
      "source": [
        "import matplotlib.pyplot as plt"
      ],
      "execution_count": 27,
      "outputs": []
    },
    {
      "cell_type": "code",
      "metadata": {
        "id": "JRlDWVURwAwB",
        "colab_type": "code",
        "colab": {
          "base_uri": "https://localhost:8080/",
          "height": 390
        },
        "outputId": "0efb1568-ccaf-4816-89fb-1e7d731f1d79"
      },
      "source": [
        "models = ['Logistic Regression', 'Decision Tree', 'Random Forest', 'Gaussian NB', 'XGB']\n",
        "\n",
        "fig = plt.figure(figsize=(8,6))\n",
        "\n",
        "# plt.plot(models, recall_all, color='green', marker='o')\n",
        "plt.plot(models, auc_all, color='purple', marker='D')\n",
        "plt.plot(models, precision_all, color='red', marker='o')\n",
        "plt.plot(models, f1_all, color='blue', marker='s')\n",
        "plt.plot(models, bal_acc_all, color='salmon', marker='P')\n",
        "plt.plot(models, acc_all, color='orange', marker='s')\n",
        "plt.legend(['AUC', 'Precision', 'F1 Score', 'Balanced Accuracy', 'Accuracy'])\n",
        "plt.title('Comparison of various models performance')\n",
        "\n",
        "plt.show(fig)"
      ],
      "execution_count": 38,
      "outputs": [
        {
          "output_type": "display_data",
          "data": {
            "image/png": "[encoded data removed]",
            "text/plain": [
              "<Figure size 576x432 with 1 Axes>"
            ]
          },
          "metadata": {
            "tags": [],
            "needs_background": "light"
          }
        }
      ]
    },
    {
      "cell_type": "code",
      "metadata": {
        "id": "nHQkmbgtX8xi",
        "colab_type": "code",
        "colab": {
          "base_uri": "https://localhost:8080/",
          "height": 282
        },
        "outputId": "69fa728e-72b1-4108-8f3a-db098957f7e8"
      },
      "source": [
        "plt.plot(models, auc_all, color='purple', marker='D')"
      ],
      "execution_count": 39,
      "outputs": [
        {
          "output_type": "execute_result",
          "data": {
            "text/plain": [
              "[<matplotlib.lines.Line2D at 0x7f94b5802cf8>]"
            ]
          },
          "metadata": {
            "tags": []
          },
          "execution_count": 39
        },
        {
          "output_type": "display_data",
          "data": {
            "image/png": "[encoded data removed]",
            "text/plain": [
              "<Figure size 432x288 with 1 Axes>"
            ]
          },
          "metadata": {
            "tags": [],
            "needs_background": "light"
          }
        }
      ]
    }
  ]
}